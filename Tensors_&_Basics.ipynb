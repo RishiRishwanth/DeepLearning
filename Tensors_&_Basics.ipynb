{
  "nbformat": 4,
  "nbformat_minor": 0,
  "metadata": {
    "colab": {
      "provenance": [],
      "authorship_tag": "ABX9TyNpasitL3SZHKIpfoHM/gYA",
      "include_colab_link": true
    },
    "kernelspec": {
      "name": "python3",
      "display_name": "Python 3"
    },
    "language_info": {
      "name": "python"
    }
  },
  "cells": [
    {
      "cell_type": "markdown",
      "metadata": {
        "id": "view-in-github",
        "colab_type": "text"
      },
      "source": [
        "<a href=\"https://colab.research.google.com/github/RishiRishwanth/DeepLearning/blob/main/Tensors_%26_Basics.ipynb\" target=\"_parent\"><img src=\"https://colab.research.google.com/assets/colab-badge.svg\" alt=\"Open In Colab\"/></a>"
      ]
    },
    {
      "cell_type": "code",
      "execution_count": 2,
      "metadata": {
        "colab": {
          "base_uri": "https://localhost:8080/"
        },
        "id": "Bto8bDlBJqNM",
        "outputId": "6ef180e6-0722-41b3-ef99-3cfd96c8d90e"
      },
      "outputs": [
        {
          "output_type": "stream",
          "name": "stdout",
          "text": [
            "tf.Tensor(4, shape=(), dtype=int32)\n",
            "tf.Tensor([ 2  0 -3], shape=(3,), dtype=int32)\n",
            "tf.Tensor(\n",
            "[[ 2.  0. -3.]\n",
            " [ 1.  2.  3.]], shape=(2, 3), dtype=float32)\n",
            "tf.Tensor(\n",
            "[[[ 2  0 -3]\n",
            "  [ 1  2  3]]\n",
            "\n",
            " [[ 2  0 -3]\n",
            "  [ 1  2  3]]\n",
            "\n",
            " [[ 2  0 -3]\n",
            "  [ 1  2  3]]\n",
            "\n",
            " [[ 2  0 -3]\n",
            "  [ 1  2  3]]], shape=(4, 2, 3), dtype=int32)\n"
          ]
        }
      ],
      "source": [
        "import tensorflow as tf\n",
        "\n",
        "tensor_zero_d = tf.constant(4) #0D\n",
        "print(tensor_zero_d)\n",
        "\n",
        "tensor_one_d = tf.constant([2,0,-3])\n",
        "print(tensor_one_d)\n",
        "\n",
        "tensor_2d = tf.constant([[2,0,-3],[1,2,3]],dtype=tf.float32)\n",
        "print(tensor_2d)\n",
        "\n",
        "tensor_3d = tf.constant([\n",
        "    [[2,0,-3],[1,2,3]],\n",
        "    [[2,0,-3],[1,2,3]],\n",
        "    [[2,0,-3],[1,2,3]],\n",
        "    [[2,0,-3],[1,2,3]]\n",
        "])\n",
        "print(tensor_3d)\n"
      ]
    },
    {
      "cell_type": "code",
      "source": [
        "tensor_3d.ndim #says that tensor is 3d"
      ],
      "metadata": {
        "colab": {
          "base_uri": "https://localhost:8080/"
        },
        "id": "8adLKrDXxE9R",
        "outputId": "e1c0529e-2e4a-4e66-c203-02bc9a6cd479"
      },
      "execution_count": 7,
      "outputs": [
        {
          "output_type": "execute_result",
          "data": {
            "text/plain": [
              "3"
            ]
          },
          "metadata": {},
          "execution_count": 7
        }
      ]
    },
    {
      "cell_type": "code",
      "source": [
        "tensor_4d = tf.constant([[\n",
        "    [[2,0,-3],[1,2,3]],\n",
        "    [[2,0,-3],[1,2,3]],\n",
        "    [[2,0,-3],[1,2,3]],\n",
        "    [[2,0,-3],[1,2,3]]\n",
        "],\n",
        "                         [\n",
        "    [[2,0,-3],[1,2,3]],\n",
        "    [[2,0,-3],[1,2,3]],\n",
        "    [[2,0,-3],[1,2,3]],\n",
        "    [[2,0,-3],[1,2,3]]\n",
        "],\n",
        "                         [\n",
        "    [[2,0,-3],[1,2,3]],\n",
        "    [[2,0,-3],[1,2,3]],\n",
        "    [[2,0,-3],[1,2,3]],\n",
        "    [[2,0,-3],[1,2,3]]\n",
        "],\n",
        "                         [\n",
        "    [[2,0,-3],[1,2,3]],\n",
        "    [[2,0,-3],[1,2,3]],\n",
        "    [[2,0,-3],[1,2,3]],\n",
        "    [[2,0,-3],[1,2,3]]\n",
        "],\n",
        "                         ])\n",
        "\n",
        "print(tensor_4d,tensor_4d.ndim)"
      ],
      "metadata": {
        "colab": {
          "base_uri": "https://localhost:8080/"
        },
        "id": "vriDMDPox8Fc",
        "outputId": "ba78bf29-4c76-46b2-8a8f-0176844f7d5c"
      },
      "execution_count": 11,
      "outputs": [
        {
          "output_type": "stream",
          "name": "stdout",
          "text": [
            "tf.Tensor(\n",
            "[[[[ 2  0 -3]\n",
            "   [ 1  2  3]]\n",
            "\n",
            "  [[ 2  0 -3]\n",
            "   [ 1  2  3]]\n",
            "\n",
            "  [[ 2  0 -3]\n",
            "   [ 1  2  3]]\n",
            "\n",
            "  [[ 2  0 -3]\n",
            "   [ 1  2  3]]]\n",
            "\n",
            "\n",
            " [[[ 2  0 -3]\n",
            "   [ 1  2  3]]\n",
            "\n",
            "  [[ 2  0 -3]\n",
            "   [ 1  2  3]]\n",
            "\n",
            "  [[ 2  0 -3]\n",
            "   [ 1  2  3]]\n",
            "\n",
            "  [[ 2  0 -3]\n",
            "   [ 1  2  3]]]\n",
            "\n",
            "\n",
            " [[[ 2  0 -3]\n",
            "   [ 1  2  3]]\n",
            "\n",
            "  [[ 2  0 -3]\n",
            "   [ 1  2  3]]\n",
            "\n",
            "  [[ 2  0 -3]\n",
            "   [ 1  2  3]]\n",
            "\n",
            "  [[ 2  0 -3]\n",
            "   [ 1  2  3]]]\n",
            "\n",
            "\n",
            " [[[ 2  0 -3]\n",
            "   [ 1  2  3]]\n",
            "\n",
            "  [[ 2  0 -3]\n",
            "   [ 1  2  3]]\n",
            "\n",
            "  [[ 2  0 -3]\n",
            "   [ 1  2  3]]\n",
            "\n",
            "  [[ 2  0 -3]\n",
            "   [ 1  2  3]]]], shape=(4, 4, 2, 3), dtype=int32) 4\n"
          ]
        }
      ]
    },
    {
      "cell_type": "code",
      "source": [
        "casted_tensor_1d = tf.cast(tensor_one_d,dtype = tf.float64)\n",
        "print(casted_tensor_1d)\n",
        "casted_tensor_1d = tf.cast(tensor_one_d,dtype = tf.bool\n",
        "                           )\n",
        "print(casted_tensor_1d)"
      ],
      "metadata": {
        "colab": {
          "base_uri": "https://localhost:8080/"
        },
        "id": "JjeNd-etyfeO",
        "outputId": "e054c6c5-4f4b-483e-f948-76e6da76dfa4"
      },
      "execution_count": 16,
      "outputs": [
        {
          "output_type": "stream",
          "name": "stdout",
          "text": [
            "tf.Tensor([ 2.  0. -3.], shape=(3,), dtype=float64)\n",
            "tf.Tensor([ True False  True], shape=(3,), dtype=bool)\n"
          ]
        }
      ]
    },
    {
      "cell_type": "code",
      "source": [
        "tensor_bool = tf.constant([True,False,True])\n",
        "casted_tensor = tf.cast(tensor_bool,dtype = tf.int32)\n",
        "casted_tensor"
      ],
      "metadata": {
        "colab": {
          "base_uri": "https://localhost:8080/"
        },
        "id": "tu8SVxdK7RgE",
        "outputId": "15c8ebfd-0c54-43df-dca0-d03a536ac753"
      },
      "execution_count": 18,
      "outputs": [
        {
          "output_type": "execute_result",
          "data": {
            "text/plain": [
              "<tf.Tensor: shape=(3,), dtype=int32, numpy=array([1, 0, 1], dtype=int32)>"
            ]
          },
          "metadata": {},
          "execution_count": 18
        }
      ]
    },
    {
      "cell_type": "code",
      "source": [
        "tensor_string = tf.constant('hello World')\n",
        "print(tensor_string)\n"
      ],
      "metadata": {
        "colab": {
          "base_uri": "https://localhost:8080/"
        },
        "id": "6dWrNy7Y7ndN",
        "outputId": "68058860-b6a1-44d2-8608-c66144d265d4"
      },
      "execution_count": 20,
      "outputs": [
        {
          "output_type": "stream",
          "name": "stdout",
          "text": [
            "tf.Tensor(b'hello World', shape=(), dtype=string)\n"
          ]
        }
      ]
    },
    {
      "cell_type": "code",
      "source": [
        "import numpy as np\n",
        "\n",
        "np_array= np.array([1,2,3])\n",
        "print(np_array)"
      ],
      "metadata": {
        "colab": {
          "base_uri": "https://localhost:8080/"
        },
        "id": "t0YGFnEC75Za",
        "outputId": "3128d871-788c-4a7c-8697-80290d9ef221"
      },
      "execution_count": 21,
      "outputs": [
        {
          "output_type": "stream",
          "name": "stdout",
          "text": [
            "[1 2 3]\n"
          ]
        }
      ]
    },
    {
      "cell_type": "code",
      "source": [
        "eye_tensor = tf.eye(\n",
        "                    num_rows = 3,\n",
        "                    num_columns = 3,\n",
        "                    batch_shape=[3,],\n",
        "                    dtype = tf.dtypes.float32,\n",
        "                    name = None\n",
        "                    )\n",
        "print(eye_tensor)\n",
        "#creates identity matrix\n",
        "\n"
      ],
      "metadata": {
        "colab": {
          "base_uri": "https://localhost:8080/"
        },
        "id": "Hw9zh6cg8Q7y",
        "outputId": "ff1204d4-0e51-49bf-e0e2-8e4f439b93fa"
      },
      "execution_count": 28,
      "outputs": [
        {
          "output_type": "stream",
          "name": "stdout",
          "text": [
            "tf.Tensor(\n",
            "[[[1. 0. 0.]\n",
            "  [0. 1. 0.]\n",
            "  [0. 0. 1.]]\n",
            "\n",
            " [[1. 0. 0.]\n",
            "  [0. 1. 0.]\n",
            "  [0. 0. 1.]]\n",
            "\n",
            " [[1. 0. 0.]\n",
            "  [0. 1. 0.]\n",
            "  [0. 0. 1.]]], shape=(3, 3, 3), dtype=float32)\n"
          ]
        }
      ]
    },
    {
      "cell_type": "code",
      "source": [
        "fill_tensor = tf.fill(\n",
        "    [3,4],5, name=None\n",
        ")\n",
        "print(fill_tensor)\n",
        "#filling the tensor with 5 in shape (3,4)\n"
      ],
      "metadata": {
        "colab": {
          "base_uri": "https://localhost:8080/"
        },
        "id": "IMxQTY9g8-LV",
        "outputId": "1d9c71c6-08db-4156-96e3-65dae8b9537a"
      },
      "execution_count": 29,
      "outputs": [
        {
          "output_type": "stream",
          "name": "stdout",
          "text": [
            "tf.Tensor(\n",
            "[[5 5 5 5]\n",
            " [5 5 5 5]\n",
            " [5 5 5 5]], shape=(3, 4), dtype=int32)\n"
          ]
        }
      ]
    },
    {
      "cell_type": "code",
      "source": [
        "ones_tensor = tf.ones(\n",
        "    [5,3],\n",
        "    dtype = tf.dtypes.float32,\n",
        "    name = None\n",
        ")\n",
        "print(f'ones_tensor:{ones_tensor}',ones_tensor)\n",
        "\n",
        "#ones_like\n",
        "#takes shape from inpput and fills 1 in the same shape\n",
        "ones_like_tensor = tf.ones_like(\n",
        "    tensor_4d, dtype = None, name=None\n",
        "\n",
        ")\n",
        "print(ones_like_tensor)\n",
        "\n"
      ],
      "metadata": {
        "colab": {
          "base_uri": "https://localhost:8080/"
        },
        "id": "NiTgfRyW-H4l",
        "outputId": "6ab9b0b2-9ddf-42de-fde4-35f0c41f00c5"
      },
      "execution_count": 32,
      "outputs": [
        {
          "output_type": "stream",
          "name": "stdout",
          "text": [
            "ones_tensor:[[1. 1. 1.]\n",
            " [1. 1. 1.]\n",
            " [1. 1. 1.]\n",
            " [1. 1. 1.]\n",
            " [1. 1. 1.]] tf.Tensor(\n",
            "[[1. 1. 1.]\n",
            " [1. 1. 1.]\n",
            " [1. 1. 1.]\n",
            " [1. 1. 1.]\n",
            " [1. 1. 1.]], shape=(5, 3), dtype=float32)\n",
            "tf.Tensor(\n",
            "[[[[1 1 1]\n",
            "   [1 1 1]]\n",
            "\n",
            "  [[1 1 1]\n",
            "   [1 1 1]]\n",
            "\n",
            "  [[1 1 1]\n",
            "   [1 1 1]]\n",
            "\n",
            "  [[1 1 1]\n",
            "   [1 1 1]]]\n",
            "\n",
            "\n",
            " [[[1 1 1]\n",
            "   [1 1 1]]\n",
            "\n",
            "  [[1 1 1]\n",
            "   [1 1 1]]\n",
            "\n",
            "  [[1 1 1]\n",
            "   [1 1 1]]\n",
            "\n",
            "  [[1 1 1]\n",
            "   [1 1 1]]]\n",
            "\n",
            "\n",
            " [[[1 1 1]\n",
            "   [1 1 1]]\n",
            "\n",
            "  [[1 1 1]\n",
            "   [1 1 1]]\n",
            "\n",
            "  [[1 1 1]\n",
            "   [1 1 1]]\n",
            "\n",
            "  [[1 1 1]\n",
            "   [1 1 1]]]\n",
            "\n",
            "\n",
            " [[[1 1 1]\n",
            "   [1 1 1]]\n",
            "\n",
            "  [[1 1 1]\n",
            "   [1 1 1]]\n",
            "\n",
            "  [[1 1 1]\n",
            "   [1 1 1]]\n",
            "\n",
            "  [[1 1 1]\n",
            "   [1 1 1]]]], shape=(4, 4, 2, 3), dtype=int32)\n"
          ]
        }
      ]
    },
    {
      "cell_type": "code",
      "source": [
        "#rank  = dimenesion,degree...\n",
        "\n",
        "print(tf.rank(tensor_4d))"
      ],
      "metadata": {
        "colab": {
          "base_uri": "https://localhost:8080/"
        },
        "id": "eC40jr-n-g5y",
        "outputId": "340d5f64-1158-45a8-960d-7490afa2eae7"
      },
      "execution_count": 34,
      "outputs": [
        {
          "output_type": "stream",
          "name": "stdout",
          "text": [
            "tf.Tensor(4, shape=(), dtype=int32)\n"
          ]
        }
      ]
    },
    {
      "cell_type": "code",
      "source": [
        "#random_tensor\n",
        "\n",
        "#normal and uniform are distributions\n",
        "\n",
        "random_tensor = tf.random.normal(\n",
        "    [3,2],\n",
        "    mean=0.0,\n",
        "    stddev= 5.0,\n",
        "    dtype = tf.dtypes.float32,\n",
        "    seed = None,\n",
        "    name = None\n",
        ")\n",
        "print(random_tensor)\n",
        "\n",
        "random_tensor = tf.random.uniform(\n",
        "    [3,2],\n",
        "    minval=0.0,\n",
        "    maxval= 2.0,\n",
        "    dtype = tf.dtypes.float32,\n",
        "    seed = None,\n",
        "    name = None\n",
        ")\n",
        "print(random_tensor)"
      ],
      "metadata": {
        "colab": {
          "base_uri": "https://localhost:8080/"
        },
        "id": "W1avyhQo_rxg",
        "outputId": "cd02423a-1156-4971-b066-c61dd7937f5b"
      },
      "execution_count": 43,
      "outputs": [
        {
          "output_type": "stream",
          "name": "stdout",
          "text": [
            "tf.Tensor(\n",
            "[[ 6.2813845   0.7862251 ]\n",
            " [-7.486103    0.36208773]\n",
            " [ 6.854948   -3.4289074 ]], shape=(3, 2), dtype=float32)\n",
            "tf.Tensor(\n",
            "[[0.30317783 0.16604805]\n",
            " [0.9537866  1.6966357 ]\n",
            " [1.8180356  0.463948  ]], shape=(3, 2), dtype=float32)\n"
          ]
        }
      ]
    },
    {
      "cell_type": "code",
      "source": [
        "#INDEXING = slicing\n",
        "\n",
        "tensor_indexed = tf.constant([3,6,2,3,4,6,66,7])\n",
        "print(tensor_indexed[0:3])"
      ],
      "metadata": {
        "colab": {
          "base_uri": "https://localhost:8080/"
        },
        "id": "-vNcnSFXAYVD",
        "outputId": "b869fb6c-9a71-4700-dccc-e7a83c85e1ab"
      },
      "execution_count": 4,
      "outputs": [
        {
          "output_type": "stream",
          "name": "stdout",
          "text": [
            "tf.Tensor([3 6 2], shape=(3,), dtype=int32)\n"
          ]
        }
      ]
    },
    {
      "cell_type": "code",
      "source": [
        "tf.range(2,6)\n"
      ],
      "metadata": {
        "colab": {
          "base_uri": "https://localhost:8080/"
        },
        "id": "L9ICBkOMDaUq",
        "outputId": "8e254b30-58dd-4ec6-daf6-542b15c26cc1"
      },
      "execution_count": 5,
      "outputs": [
        {
          "output_type": "execute_result",
          "data": {
            "text/plain": [
              "<tf.Tensor: shape=(4,), dtype=int32, numpy=array([2, 3, 4, 5], dtype=int32)>"
            ]
          },
          "metadata": {},
          "execution_count": 5
        }
      ]
    },
    {
      "cell_type": "code",
      "source": [
        "#tf.abs -->absolute value\n",
        "#tf.sqrt\n",
        "#tf.add,tf.divide..etc..\n",
        "#tf.math.multiply\n",
        "#tf.math.argmax\n"
      ],
      "metadata": {
        "id": "sQE1PwjbDuCb"
      },
      "execution_count": null,
      "outputs": []
    }
  ]
}